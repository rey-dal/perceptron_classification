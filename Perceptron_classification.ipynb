{
  "cells": [
    {
      "cell_type": "markdown",
      "id": "69d4d223-581b-417a-b6ff-f0950b2ec9d9",
      "metadata": {
        "id": "69d4d223-581b-417a-b6ff-f0950b2ec9d9"
      },
      "source": [
        "\n",
        "## Préparatifs\n",
        "\n",
        "Les commandes suivantes permettent de charger les bibliothèques Python nécessaires."
      ]
    },
    {
      "cell_type": "code",
      "execution_count": null,
      "id": "5c5e7502-a884-4215-95a7-5795e424b7a8",
      "metadata": {
        "id": "5c5e7502-a884-4215-95a7-5795e424b7a8"
      },
      "outputs": [],
      "source": [
        "# Importation des bibliothèques:\n",
        "# - numPy pour la manipulation de vecteurs et de matrices (algèbre linéaire)\n",
        "# - scikit-learn pour l'accès au jeu de données\n",
        "# - pandas pour la visualisation des données sous forme de tableau\n",
        "# - matplotlib pour la visualisation des données sous forme de graphe\n",
        "# - random pour la génération de nombres aléatoires et la reproducibilité\n",
        "\n",
        "import numpy as np\n",
        "import pandas as pd\n",
        "import matplotlib.pyplot as plt\n",
        "import random\n",
        "\n",
        "from sklearn.datasets import load_iris\n",
        "from sklearn.model_selection import train_test_split\n",
        "from sklearn.preprocessing import OneHotEncoder\n",
        "\n",
        "seed = 1\n",
        "random.seed(seed)\n",
        "np.random.seed(seed)"
      ]
    },
    {
      "cell_type": "markdown",
      "id": "81d5b6a3-ae6c-483e-a668-b4586204354a",
      "metadata": {
        "id": "81d5b6a3-ae6c-483e-a668-b4586204354a"
      },
      "source": [
        "## Exploration des données\n",
        "\n",
        "Le jeu de données sur lequel vous allez travailler est de petite taille et s'intitule Iris.\n",
        "\n",
        "Ce jeu de données bien connu contient les mesures de 150 iris, réparties en 3 espèces différentes (50 iris par espèce). Pour chaque iris, quatre mesures ont été efféctuées, correspondant à la longueur et la largeur des pétales et des sépales.\n",
        "\n",
        "Une première étape va consister à charger ce jeu de données, puis à observer comment y sont structurées les données."
      ]
    },
    {
      "cell_type": "code",
      "execution_count": null,
      "id": "07c23464-a8ed-42c3-90f4-c3d0efd32205",
      "metadata": {
        "id": "07c23464-a8ed-42c3-90f4-c3d0efd32205",
        "outputId": "714e7b4c-7b49-4bd4-e141-1d3abab56a7b"
      },
      "outputs": [
        {
          "name": "stdout",
          "output_type": "stream",
          "text": [
            "Mesures des 3 premiers iris :\n",
            "[[5.1 3.5 1.4 0.2]\n",
            " [4.9 3.  1.4 0.2]\n",
            " [4.7 3.2 1.3 0.2]]\n",
            "\n",
            "Étiquettes des 3 premiers iris :\n",
            "[0 0 0]\n",
            "\n",
            "Nom des variables :\n",
            "['sepal length (cm)', 'sepal width (cm)', 'petal length (cm)', 'petal width (cm)']\n"
          ]
        }
      ],
      "source": [
        "# Chargement des données\n",
        "donnees = load_iris()\n",
        "\n",
        "# Le champ \"data\" contient les observations (mesures)\n",
        "print('Mesures des 3 premiers iris :')\n",
        "print(donnees.data[0:3, :])\n",
        "print()\n",
        "\n",
        "# Le champ \"target\" contient les étiquettes de classe\n",
        "print('Étiquettes des 3 premiers iris :')\n",
        "print(donnees.target[0:3])\n",
        "print()\n",
        "\n",
        "# Le champ \"feature_names\" contient les noms des variables (features)\n",
        "print('Nom des variables :')\n",
        "print(donnees.feature_names)"
      ]
    },
    {
      "cell_type": "markdown",
      "id": "7f4c357a-c23f-43cb-8c01-a1deef24fb6c",
      "metadata": {
        "id": "7f4c357a-c23f-43cb-8c01-a1deef24fb6c"
      },
      "source": [
        "On note que les étiquettes sont des nombres entiers correspondant à l'espèce de l'iris qui a été mesuré. Celles-ci peuvent prendre la valeur 0, 1 ou 2 selon l'espèce.\n",
        "\n",
        "Afin de visualiser les données plus facilement, on peut les charger dans un tableau `pandas`:"
      ]
    },
    {
      "cell_type": "code",
      "execution_count": null,
      "id": "33c30b72-608e-47b9-ab23-cc24457a11a7",
      "metadata": {
        "id": "33c30b72-608e-47b9-ab23-cc24457a11a7",
        "outputId": "70a5dc5b-6f0f-455f-97aa-76dfd5ab3e99"
      },
      "outputs": [
        {
          "data": {
            "text/html": [
              "<div>\n",
              "<style scoped>\n",
              "    .dataframe tbody tr th:only-of-type {\n",
              "        vertical-align: middle;\n",
              "    }\n",
              "\n",
              "    .dataframe tbody tr th {\n",
              "        vertical-align: top;\n",
              "    }\n",
              "\n",
              "    .dataframe thead th {\n",
              "        text-align: right;\n",
              "    }\n",
              "</style>\n",
              "<table border=\"1\" class=\"dataframe\">\n",
              "  <thead>\n",
              "    <tr style=\"text-align: right;\">\n",
              "      <th></th>\n",
              "      <th>sepal length (cm)</th>\n",
              "      <th>sepal width (cm)</th>\n",
              "      <th>petal length (cm)</th>\n",
              "      <th>petal width (cm)</th>\n",
              "      <th>target</th>\n",
              "    </tr>\n",
              "  </thead>\n",
              "  <tbody>\n",
              "    <tr>\n",
              "      <th>0</th>\n",
              "      <td>5.1</td>\n",
              "      <td>3.5</td>\n",
              "      <td>1.4</td>\n",
              "      <td>0.2</td>\n",
              "      <td>0</td>\n",
              "    </tr>\n",
              "    <tr>\n",
              "      <th>1</th>\n",
              "      <td>4.9</td>\n",
              "      <td>3.0</td>\n",
              "      <td>1.4</td>\n",
              "      <td>0.2</td>\n",
              "      <td>0</td>\n",
              "    </tr>\n",
              "    <tr>\n",
              "      <th>2</th>\n",
              "      <td>4.7</td>\n",
              "      <td>3.2</td>\n",
              "      <td>1.3</td>\n",
              "      <td>0.2</td>\n",
              "      <td>0</td>\n",
              "    </tr>\n",
              "    <tr>\n",
              "      <th>3</th>\n",
              "      <td>4.6</td>\n",
              "      <td>3.1</td>\n",
              "      <td>1.5</td>\n",
              "      <td>0.2</td>\n",
              "      <td>0</td>\n",
              "    </tr>\n",
              "    <tr>\n",
              "      <th>4</th>\n",
              "      <td>5.0</td>\n",
              "      <td>3.6</td>\n",
              "      <td>1.4</td>\n",
              "      <td>0.2</td>\n",
              "      <td>0</td>\n",
              "    </tr>\n",
              "    <tr>\n",
              "      <th>...</th>\n",
              "      <td>...</td>\n",
              "      <td>...</td>\n",
              "      <td>...</td>\n",
              "      <td>...</td>\n",
              "      <td>...</td>\n",
              "    </tr>\n",
              "    <tr>\n",
              "      <th>145</th>\n",
              "      <td>6.7</td>\n",
              "      <td>3.0</td>\n",
              "      <td>5.2</td>\n",
              "      <td>2.3</td>\n",
              "      <td>2</td>\n",
              "    </tr>\n",
              "    <tr>\n",
              "      <th>146</th>\n",
              "      <td>6.3</td>\n",
              "      <td>2.5</td>\n",
              "      <td>5.0</td>\n",
              "      <td>1.9</td>\n",
              "      <td>2</td>\n",
              "    </tr>\n",
              "    <tr>\n",
              "      <th>147</th>\n",
              "      <td>6.5</td>\n",
              "      <td>3.0</td>\n",
              "      <td>5.2</td>\n",
              "      <td>2.0</td>\n",
              "      <td>2</td>\n",
              "    </tr>\n",
              "    <tr>\n",
              "      <th>148</th>\n",
              "      <td>6.2</td>\n",
              "      <td>3.4</td>\n",
              "      <td>5.4</td>\n",
              "      <td>2.3</td>\n",
              "      <td>2</td>\n",
              "    </tr>\n",
              "    <tr>\n",
              "      <th>149</th>\n",
              "      <td>5.9</td>\n",
              "      <td>3.0</td>\n",
              "      <td>5.1</td>\n",
              "      <td>1.8</td>\n",
              "      <td>2</td>\n",
              "    </tr>\n",
              "  </tbody>\n",
              "</table>\n",
              "<p>150 rows × 5 columns</p>\n",
              "</div>"
            ],
            "text/plain": [
              "     sepal length (cm)  sepal width (cm)  petal length (cm)  petal width (cm)  \\\n",
              "0                  5.1               3.5                1.4               0.2   \n",
              "1                  4.9               3.0                1.4               0.2   \n",
              "2                  4.7               3.2                1.3               0.2   \n",
              "3                  4.6               3.1                1.5               0.2   \n",
              "4                  5.0               3.6                1.4               0.2   \n",
              "..                 ...               ...                ...               ...   \n",
              "145                6.7               3.0                5.2               2.3   \n",
              "146                6.3               2.5                5.0               1.9   \n",
              "147                6.5               3.0                5.2               2.0   \n",
              "148                6.2               3.4                5.4               2.3   \n",
              "149                5.9               3.0                5.1               1.8   \n",
              "\n",
              "     target  \n",
              "0         0  \n",
              "1         0  \n",
              "2         0  \n",
              "3         0  \n",
              "4         0  \n",
              "..      ...  \n",
              "145       2  \n",
              "146       2  \n",
              "147       2  \n",
              "148       2  \n",
              "149       2  \n",
              "\n",
              "[150 rows x 5 columns]"
            ]
          },
          "execution_count": 3,
          "metadata": {},
          "output_type": "execute_result"
        }
      ],
      "source": [
        "df = pd.DataFrame(data=np.c_[donnees['data'], donnees['target']], columns=donnees['feature_names'] + ['target'])\n",
        "\n",
        "# pandas interprète automatiquement les données numériques comme des nombres à virgule flottante,\n",
        "# alors qu'on souhaite que les étiquettes soient des nombres entiers. On les convertit donc\n",
        "df.target = df.target.astype(int)\n",
        "df"
      ]
    },
    {
      "cell_type": "markdown",
      "id": "614faf58-0cfc-458e-9643-c150a76e9a6b",
      "metadata": {
        "id": "614faf58-0cfc-458e-9643-c150a76e9a6b"
      },
      "source": [
        "### Visualisation 3D des trois premières variables"
      ]
    },
    {
      "cell_type": "code",
      "execution_count": null,
      "id": "f5075513-d61a-44c5-87a0-50d0be9dab50",
      "metadata": {
        "id": "f5075513-d61a-44c5-87a0-50d0be9dab50",
        "outputId": "f10e12ab-5ded-4721-e6f9-7dbe514197dc"
      },
      "outputs": [
        {
          "data": {
            "image/png": "[encoded data removed]",
            "text/plain": [
              "<Figure size 700x600 with 1 Axes>"
            ]
          },
          "metadata": {},
          "output_type": "display_data"
        }
      ],
      "source": [
        "# Suivant la classe, les points affichés seront rouge, vert (green) ou bleus\n",
        "cmp = np.array(['r', 'g', 'b'])\n",
        "\n",
        "fig = plt.figure(figsize=(7, 6))  # Création d'une figure matplotlib\n",
        "ax = fig.add_subplot(projection='3d')  # Ajout d'un graphe 3D à la figure\n",
        "\n",
        "# Comme on est en 3 dimensions, on ne peut représenter que 3 variables. On choisit donc aléatoirement les 3 dernières variables (largeur des sépales, et longueur et largeur des pétales)\n",
        "scatter = ax.scatter(donnees.data[:,1], donnees.data[:,2], donnees.data[:,3], c=cmp[donnees.target])  # Création du graphe 3D\n",
        "\n",
        "# Ajout de titres aux axes\n",
        "ax.set_xlabel(df.columns[1])\n",
        "ax.set_ylabel(df.columns[2])\n",
        "ax.set_zlabel(df.columns[3])\n",
        "ax.set_box_aspect(None, zoom=0.85)\n",
        "plt.show()"
      ]
    },
    {
      "cell_type": "markdown",
      "id": "3d397b88-0684-4918-a2f1-df08eed7f026",
      "metadata": {
        "id": "3d397b88-0684-4918-a2f1-df08eed7f026"
      },
      "source": [
        "# Préparation des données\n",
        "\n",
        "Le but va être d'entrainer un classificateur permettant de déduire l'espèce d'un iris en fonction de ses 4 mesures. Pour cela, plusieurs étapes de préparation des données vont être nécessaires :\n",
        "- Encodage des étiquettes en 1 parmi n (*one-hot encoding*)\n",
        "- Dans un premier temps, on va séparer les données en un jeu d'entraînement (*trainset*) et un jeu de test (*testset*)\n",
        "- Ensuite, on va mélanger les données des deux ensembles\n",
        "\n",
        "La première étape consiste à encoder les étiquettes. En effet, pour chaque échantillon de mesures, le classificateur produira un score (probabilité) pour chacune des trois espèces d'iris (par exemple [0.15, 0.46, 0.39], correspondant à 15% de chances que ce soit la première espèce, 46% de chances que ce soit la deuxième, et 39% que ce soit la dernière).\n",
        "Plutôt que d'avoir des étiquettes entières, nous souhaitons donc les encoder comme suit :\n",
        "- Espèce 1 : Étiquette [1, 0, 0]\n",
        "- Espèce 2 : Étiquette [0, 1, 0]\n",
        "- Espèce 3 : Étiquette [0, 0, 1]\n",
        "\n",
        "Cette transformation nous permettra de comparer facilement les prédictions du modèle aux vraies valeurs durant l'entraînement.\n",
        "Cette méthode d'encodage, appelée \"encodage 1 parmi n\" (*one-hot encoding*), peut être fait grâce à la classe `OneHotEncoder` de scikit-learn."
      ]
    },
    {
      "cell_type": "code",
      "execution_count": null,
      "id": "78c72a0c-f5f4-428d-a869-2d7d9dff52e7",
      "metadata": {
        "scrolled": true,
        "id": "78c72a0c-f5f4-428d-a869-2d7d9dff52e7",
        "outputId": "d5d287d7-d8de-4b78-93a3-3cc54ff1ad2e"
      },
      "outputs": [
        {
          "name": "stdout",
          "output_type": "stream",
          "text": [
            "[[1. 0. 0.]\n",
            " [1. 0. 0.]\n",
            " [1. 0. 0.]\n",
            " [1. 0. 0.]\n",
            " [1. 0. 0.]\n",
            " [1. 0. 0.]\n",
            " [1. 0. 0.]\n",
            " [1. 0. 0.]\n",
            " [1. 0. 0.]\n",
            " [1. 0. 0.]\n",
            " [1. 0. 0.]\n",
            " [1. 0. 0.]\n",
            " [1. 0. 0.]\n",
            " [1. 0. 0.]\n",
            " [1. 0. 0.]\n",
            " [1. 0. 0.]\n",
            " [1. 0. 0.]\n",
            " [1. 0. 0.]\n",
            " [1. 0. 0.]\n",
            " [1. 0. 0.]\n",
            " [1. 0. 0.]\n",
            " [1. 0. 0.]\n",
            " [1. 0. 0.]\n",
            " [1. 0. 0.]\n",
            " [1. 0. 0.]\n",
            " [1. 0. 0.]\n",
            " [1. 0. 0.]\n",
            " [1. 0. 0.]\n",
            " [1. 0. 0.]\n",
            " [1. 0. 0.]\n",
            " [1. 0. 0.]\n",
            " [1. 0. 0.]\n",
            " [1. 0. 0.]\n",
            " [1. 0. 0.]\n",
            " [1. 0. 0.]\n",
            " [1. 0. 0.]\n",
            " [1. 0. 0.]\n",
            " [1. 0. 0.]\n",
            " [1. 0. 0.]\n",
            " [1. 0. 0.]\n",
            " [1. 0. 0.]\n",
            " [1. 0. 0.]\n",
            " [1. 0. 0.]\n",
            " [1. 0. 0.]\n",
            " [1. 0. 0.]\n",
            " [1. 0. 0.]\n",
            " [1. 0. 0.]\n",
            " [1. 0. 0.]\n",
            " [1. 0. 0.]\n",
            " [1. 0. 0.]\n",
            " [0. 1. 0.]\n",
            " [0. 1. 0.]\n",
            " [0. 1. 0.]\n",
            " [0. 1. 0.]\n",
            " [0. 1. 0.]\n",
            " [0. 1. 0.]\n",
            " [0. 1. 0.]\n",
            " [0. 1. 0.]\n",
            " [0. 1. 0.]\n",
            " [0. 1. 0.]\n",
            " [0. 1. 0.]\n",
            " [0. 1. 0.]\n",
            " [0. 1. 0.]\n",
            " [0. 1. 0.]\n",
            " [0. 1. 0.]\n",
            " [0. 1. 0.]\n",
            " [0. 1. 0.]\n",
            " [0. 1. 0.]\n",
            " [0. 1. 0.]\n",
            " [0. 1. 0.]\n",
            " [0. 1. 0.]\n",
            " [0. 1. 0.]\n",
            " [0. 1. 0.]\n",
            " [0. 1. 0.]\n",
            " [0. 1. 0.]\n",
            " [0. 1. 0.]\n",
            " [0. 1. 0.]\n",
            " [0. 1. 0.]\n",
            " [0. 1. 0.]\n",
            " [0. 1. 0.]\n",
            " [0. 1. 0.]\n",
            " [0. 1. 0.]\n",
            " [0. 1. 0.]\n",
            " [0. 1. 0.]\n",
            " [0. 1. 0.]\n",
            " [0. 1. 0.]\n",
            " [0. 1. 0.]\n",
            " [0. 1. 0.]\n",
            " [0. 1. 0.]\n",
            " [0. 1. 0.]\n",
            " [0. 1. 0.]\n",
            " [0. 1. 0.]\n",
            " [0. 1. 0.]\n",
            " [0. 1. 0.]\n",
            " [0. 1. 0.]\n",
            " [0. 1. 0.]\n",
            " [0. 1. 0.]\n",
            " [0. 1. 0.]\n",
            " [0. 1. 0.]\n",
            " [0. 1. 0.]\n",
            " [0. 0. 1.]\n",
            " [0. 0. 1.]\n",
            " [0. 0. 1.]\n",
            " [0. 0. 1.]\n",
            " [0. 0. 1.]\n",
            " [0. 0. 1.]\n",
            " [0. 0. 1.]\n",
            " [0. 0. 1.]\n",
            " [0. 0. 1.]\n",
            " [0. 0. 1.]\n",
            " [0. 0. 1.]\n",
            " [0. 0. 1.]\n",
            " [0. 0. 1.]\n",
            " [0. 0. 1.]\n",
            " [0. 0. 1.]\n",
            " [0. 0. 1.]\n",
            " [0. 0. 1.]\n",
            " [0. 0. 1.]\n",
            " [0. 0. 1.]\n",
            " [0. 0. 1.]\n",
            " [0. 0. 1.]\n",
            " [0. 0. 1.]\n",
            " [0. 0. 1.]\n",
            " [0. 0. 1.]\n",
            " [0. 0. 1.]\n",
            " [0. 0. 1.]\n",
            " [0. 0. 1.]\n",
            " [0. 0. 1.]\n",
            " [0. 0. 1.]\n",
            " [0. 0. 1.]\n",
            " [0. 0. 1.]\n",
            " [0. 0. 1.]\n",
            " [0. 0. 1.]\n",
            " [0. 0. 1.]\n",
            " [0. 0. 1.]\n",
            " [0. 0. 1.]\n",
            " [0. 0. 1.]\n",
            " [0. 0. 1.]\n",
            " [0. 0. 1.]\n",
            " [0. 0. 1.]\n",
            " [0. 0. 1.]\n",
            " [0. 0. 1.]\n",
            " [0. 0. 1.]\n",
            " [0. 0. 1.]\n",
            " [0. 0. 1.]\n",
            " [0. 0. 1.]\n",
            " [0. 0. 1.]\n",
            " [0. 0. 1.]\n",
            " [0. 0. 1.]\n",
            " [0. 0. 1.]]\n"
          ]
        }
      ],
      "source": [
        "enc = OneHotEncoder(sparse_output=False)\n",
        "labels = enc.fit_transform(donnees['target'].reshape(-1, 1))\n",
        "print(labels)"
      ]
    },
    {
      "cell_type": "markdown",
      "id": "3db6ac8e-51b8-4bff-b2e1-884099eacff9",
      "metadata": {
        "id": "3db6ac8e-51b8-4bff-b2e1-884099eacff9"
      },
      "source": [
        "Les deux étapes restantes (mélange et séparation) peuvent être effectuées ensemble grâce à la fonction `train_test_split` de scikit-learn :"
      ]
    },
    {
      "cell_type": "code",
      "execution_count": null,
      "id": "4c3b8de7-b06c-4e11-bf36-b101af8bd9c4",
      "metadata": {
        "id": "4c3b8de7-b06c-4e11-bf36-b101af8bd9c4",
        "outputId": "878e47bd-5e7e-419f-c586-6df2e0f49c8a"
      },
      "outputs": [
        {
          "name": "stdout",
          "output_type": "stream",
          "text": [
            "(120, 4)\n",
            "(120, 3)\n",
            "(30, 4)\n",
            "(30, 3)\n"
          ]
        }
      ],
      "source": [
        "# On garde 20% des données pour tester le classificateur\n",
        "test_frac = 0.2\n",
        "\n",
        "X_train, X_test, y_train, y_test = train_test_split(donnees['data'], labels, test_size=test_frac, shuffle=True, random_state=seed)\n",
        "\n",
        "# On a désormais 4 jeux de données : deux jeux d'entraînement (mesures et classes) et deux de test.\n",
        "\n",
        "print(X_train.shape)  # Il reste 80% des données (120/150) pour l'entraînement, avec 4 mesures par iris\n",
        "print(y_train.shape)  # Les classes des 120 iris, encodées en 1 parmi n\n",
        "\n",
        "print(X_test.shape)\n",
        "print(y_test.shape)"
      ]
    },
    {
      "cell_type": "markdown",
      "id": "5ca52896-8396-4fde-935a-18f60e8ad099",
      "metadata": {
        "id": "5ca52896-8396-4fde-935a-18f60e8ad099"
      },
      "source": [
        "# Classificateur\n",
        "\n",
        "### Présentation\n",
        "\n",
        "Le classificateur que nous allons implémenter dans cette partie est un perceptron à une seule couche. Ce modèle très simple est de la forme suivante :\n",
        "\n",
        "![image.png](attachment:008d5011-d212-459f-b81c-226f74636833.png)\n",
        "\n",
        "Comme on peut le constater, on dispose de 4 entrées, qui correspondent aux quatres mesures dont nous disposons pour chaque iris. En sortie, on souhaite obtenir trois scores correspondant aux probabilités que l'iris appartienne à chacune des trois classes.\n",
        "\n",
        "Plus précisément, la fonction calculée par chaque neurone (à droite) est obtenue en multipliant chaque entrée par un *poids* (souvent noté $w$ pour *weight*), puis en sommant ces produits et en leur ajoutant une valeur supplémentaire (*biais*, souvent noté $b$). Enfin, ce résultat final passe par une fonction supplémentaire $h$ dite *fonction d'activation*.\n",
        "\n",
        "Concrètement, l'image ci-dessous détaille le calcul effectué par le chaque neurone.\n",
        "\n",
        "![image.png](attachment:c5c1dc39-f6d8-4d44-a257-f26c46a02d23.png)\n",
        "\n",
        "Il est possible de simplifier la notation de ces équations : en posant $W_1 = (w_{1,1}, ..., w_{1,4})$ et $X = (x_1, x_2, x_3, x_4)$, on obtient l'équation suivante (forme vectorielle) :\n",
        "\n",
        "$$y_1 = h(W_1X+b_1)$$\n",
        "\n",
        "On peut encore simplifier la notation en groupant les fonctions de tous les neurones : en posant $Y = (y_1, y_2, y_3)$, $W = (W_1, W_2, W_3)^T$ et $B = (b_1, b_2, b_3)$, on obtient finalement l'équation suivante (forme matricielle), qui régit le comportement du réseau de neurones entier :\n",
        "\n",
        "$$Y = h(WX+B)$$\n",
        "\n",
        "Nous disposons déjà des vecteurs X (mesures) et Y (étiquettes); il nous reste à définir le vecteur $B$ et la matrice $W$ ainsi que la fonction $h$.\n",
        "Pour la fonction $h$, nous choisissons la fonction sigmoïde, définie par:\n",
        "$$h(x) = \\frac{1}{1 + e^{-x}}$$"
      ]
    },
    {
      "cell_type": "code",
      "execution_count": null,
      "id": "5fdfbdb3-34f3-449b-9cef-4ce8cc6b9161",
      "metadata": {
        "id": "5fdfbdb3-34f3-449b-9cef-4ce8cc6b9161"
      },
      "outputs": [],
      "source": [
        "# TODO: Définir la fonction d'activation sigmoïde, en utilisant la formule donnée ci-dessus.\n",
        "# La fonction exponentielle peut être appliquée à chaque élément d'un vecteur en utilisant la fonction np.exp().\n",
        "def sigmoid(x):\n",
        "    return 1 / (1 + np.exp(-x))"
      ]
    },
    {
      "cell_type": "markdown",
      "id": "ab68e5cd-c7d5-4409-ac00-633f7fdf95bc",
      "metadata": {
        "id": "ab68e5cd-c7d5-4409-ac00-633f7fdf95bc"
      },
      "source": [
        "Les valeurs contenues dans $B$ et de $W$ seront apprises au cours de l'entraînement du réseau de neurones. Nous allons commencer par les initialiser à des valeurs aléatoires :"
      ]
    },
    {
      "cell_type": "code",
      "execution_count": null,
      "id": "4ad8df02-e1a4-4036-aefa-a27e6c606823",
      "metadata": {
        "id": "4ad8df02-e1a4-4036-aefa-a27e6c606823"
      },
      "outputs": [],
      "source": [
        "# TODO: Initialiser les poids de W et B aléatoirement, en leur donnant leurs bonnes dimensions\n",
        "w = np.random.randn(4, 3)  # On transforme 4 entrées (les 4 longueurs) en 3 sorties (une probabilité par classe)\n",
        "b = np.random.randn(3)     # Un biais par neurone de sortie, donc 3 au total"
      ]
    },
    {
      "cell_type": "markdown",
      "id": "d79e3f92-43ad-4cad-8f44-1a17723fb87d",
      "metadata": {
        "scrolled": true,
        "id": "d79e3f92-43ad-4cad-8f44-1a17723fb87d"
      },
      "source": [
        "Nous allons maintenant définir la fonction `forward()`, qui applique le réseau de neurones à un ensemble d'entrées données. Autrement dit, `forward(x)` doit renvoyer $Y=h(WX + B)$."
      ]
    },
    {
      "cell_type": "code",
      "execution_count": null,
      "id": "a5a18497-9480-4381-969c-807bed773673",
      "metadata": {
        "scrolled": true,
        "id": "a5a18497-9480-4381-969c-807bed773673"
      },
      "outputs": [],
      "source": [
        "# TODO: Définir la fonction forward(), qui calcule et renvoie la sortie du réseau de neurones.\n",
        "# Pour calculer un produit matriciel, on pourra utiliser la fonction np.matmul().\n",
        "def forward(x):\n",
        "    z = np.matmul(x, w) + b  # Attention, en raison de la manière dont fonctionne np.matmul(), il faut inverser les deux matrices ici\n",
        "    a = sigmoid(z)\n",
        "    return a"
      ]
    },
    {
      "cell_type": "markdown",
      "id": "e473fbbb-9b14-4756-a683-8b6df796e60d",
      "metadata": {
        "id": "e473fbbb-9b14-4756-a683-8b6df796e60d"
      },
      "source": [
        "### Test sur un exemple"
      ]
    },
    {
      "cell_type": "markdown",
      "id": "a62d192e-12bf-4478-a863-630bf51f2c56",
      "metadata": {
        "id": "a62d192e-12bf-4478-a863-630bf51f2c56"
      },
      "source": [
        "On peut d'ores et déjà observer les scores que le réseau de neurones (non entraîné) attribue à un exemple donné :"
      ]
    },
    {
      "cell_type": "code",
      "execution_count": null,
      "id": "13660356-2863-44c1-a593-d2f87cc48acf",
      "metadata": {
        "id": "13660356-2863-44c1-a593-d2f87cc48acf",
        "outputId": "3df67d90-10b8-49cb-bdac-d9d48d6d7db7"
      },
      "outputs": [
        {
          "data": {
            "text/plain": [
              "array([9.99999204e-01, 4.86076220e-02, 3.01495175e-05])"
            ]
          },
          "execution_count": 10,
          "metadata": {},
          "output_type": "execute_result"
        }
      ],
      "source": [
        "ex_donnees = X_train[0]\n",
        "ex_classe = y_train[0]\n",
        "scores = forward(ex_donnees)\n",
        "scores"
      ]
    },
    {
      "cell_type": "markdown",
      "id": "bbd6b50e-d328-44bd-9058-45d500273a6e",
      "metadata": {
        "id": "bbd6b50e-d328-44bd-9058-45d500273a6e"
      },
      "source": [
        "En principe, les scores retenus correspondent aux probabilités que l'iris appartienne à chacune des trois sous-espèces. Cependant, la somme des trois scores obtenues n'est pas de 1 ! Afin de remédier à ce problème, nous allons appliquer la fonction `softmax`, qui force un ensemble de scores à devenir des scores de probabilités valides :"
      ]
    },
    {
      "cell_type": "code",
      "execution_count": null,
      "id": "df84ae57-e6d3-4301-bc06-404056da17f7",
      "metadata": {
        "id": "df84ae57-e6d3-4301-bc06-404056da17f7",
        "outputId": "41683b36-40f6-4b00-899d-ca40d8d49a15"
      },
      "outputs": [
        {
          "data": {
            "text/plain": [
              "array([0.57009486, 0.22017247, 0.20973267])"
            ]
          },
          "execution_count": 11,
          "metadata": {},
          "output_type": "execute_result"
        }
      ],
      "source": [
        "def softmax(x):\n",
        "    exps = np.exp(x - np.max(x))\n",
        "    return exps / np.sum(exps)\n",
        "\n",
        "softmax(scores)"
      ]
    },
    {
      "cell_type": "markdown",
      "id": "bc996571-e173-4269-9c70-4a835cd11ffc",
      "metadata": {
        "id": "bc996571-e173-4269-9c70-4a835cd11ffc"
      },
      "source": [
        "On obtient un score de 57% pour la première classe, 22% pour la deuxième et 21% pour la première. On pourrait imaginer que les prédictions initiales sont de 33% pour chaque classe (équiprobables), mais ça n'est pas forcément le cas ! Puisque les poids sont initialisés aléatoirement, les prédictions initiales du réseau sont généralement complètement fausses."
      ]
    },
    {
      "cell_type": "markdown",
      "id": "4800b1c0-79a3-4f73-b7de-54d437844705",
      "metadata": {
        "id": "4800b1c0-79a3-4f73-b7de-54d437844705"
      },
      "source": [
        "Afin d'évaluer la prédiction du réseau de neurones, il faut comparer celle-ci avec la vraie classe. Pour cela, on utilise une fonction de coût (*loss function*), qui va renvoyer un score correspondant à l'erreur faite par le réseau. Plus cette erreur est faible, plus le réseau de neurone est proche de la réalité.\n",
        "\n",
        "La fonction de coût que nous allons utiliser ici s'appelle l'entropie croisée. Il s'agit de la fonction de coût classique utilisée pour des tâches de classification. Sa formule est donnée ci-dessous, où $\\hat y$ est la prédiction du réseau de neurones, $y$ la vraie classe, et $n$ le nombre de classes :\n",
        "$$L(y, \\hat y) = -\\sum_{i=1}^n y \\log(\\hat y)$$"
      ]
    },
    {
      "cell_type": "code",
      "execution_count": null,
      "id": "3f59cc29-8ac9-4b45-b823-34bd0adfe8d9",
      "metadata": {
        "id": "3f59cc29-8ac9-4b45-b823-34bd0adfe8d9"
      },
      "outputs": [],
      "source": [
        "# TODO: Implémenter la fonction de coût. On pourra utiliser les fonctions np.log() et np.sum()\n",
        "def loss(y, y_hat):\n",
        "    return - np.sum(y * np.log(y_hat))\n"
      ]
    },
    {
      "cell_type": "code",
      "execution_count": null,
      "id": "0092739f-5f03-4ff4-916a-f015056bb437",
      "metadata": {
        "id": "0092739f-5f03-4ff4-916a-f015056bb437",
        "outputId": "68ced199-7763-45aa-e8c4-9226fd2a022a"
      },
      "outputs": [
        {
          "data": {
            "text/plain": [
              "3.0239749286071023"
            ]
          },
          "execution_count": 13,
          "metadata": {},
          "output_type": "execute_result"
        }
      ],
      "source": [
        "# TODO\n",
        "loss(ex_classe, scores)  # Donne un score de 0.0032"
      ]
    },
    {
      "cell_type": "markdown",
      "id": "330558ff-ec7e-453b-bad9-f21d1988b970",
      "metadata": {
        "id": "330558ff-ec7e-453b-bad9-f21d1988b970"
      },
      "source": [
        "Un des avantages de la bibliothèque `numPy` est qu'elle nous permet de travailler sur l'ensemble des données en parallèle, et pas un seul exemple. Ainsi, il est possible de passer l'intégralité du jeu de données aux fonctions `sigmoid`, `forward`, `softmax` et `loss`, auquel cas ces fonctions renverront des matrices 2D au lieu de vecteurs, où des vecteurs au lieu d'une seule valeur.\n",
        "\n",
        "### Boucle d'entraînement\n",
        "\n",
        "Afin d'entraîner le réseau de neurones, la procédure est la suivante :\n",
        "\n",
        "1. Faire passer l'ensemble des données d'entraînement par le réseau de neurones : $\\hat Y = h(WX + B)$\n",
        "2. Calculer la fonction de coût sur les prédictions du réseau de neurones : $l = L(\\hat Y, Y)$\n",
        "3. Calculer la manière dont la fonction de coût dépend de chacun des poids du réseau de neurones (gradient) : $\\Delta W = \\displaystyle\\frac{\\partial l}{\\partial W}$ et $\\Delta B = \\displaystyle\\frac{\\partial l}{\\partial B}$ (**rétropropagation**). Pour le perceptron que nous utilisons ici, on admettra les résultats suivants :\n",
        "$$\\Delta W = X^T(\\hat Y - Y)$$\n",
        "$$\\Delta B = \\sum(\\hat Y - Y)$$\n",
        "4. Mettre à jour chacun des poids du réseau de neurones en les faisant avancer un peu dans la direction inverse de celle calculée à l'étape 3, afin de s'approcher du minimum de la fonction de coût (**descente de gradient**).\n",
        "\n",
        "L'idée de la descente de gradient peut être illustrée par l'image suivante :\n",
        "\n",
        "![image.png](attachment:380bcca0-3024-4032-80ab-6ff89eac0f65.png)\n",
        "\n",
        "On essaye de varier chacun des poids du réseau de neurones (en abscisse) en suivant la pente de la fonction de coût (en ordonnée) afin d'avancer vers le minimum de celle-ci. En partant du poids initial $x_0$, on souhaite donc descendre la pente (gradient), et on change ainsi la valeur du poids à $x_1$. Une fois à $x_1$, la pente est plus faible, donc on descend moins loin, jusqu'à avoir le nouveau poids $x_2$. En répétant ceci de manière itérative, on souhaite se rapprocher du minimum de la fonction de coût.\n",
        "\n",
        "Il est important d'avancer seulement un peu dans la direction souhaitée; si on avance trop, on risque de dépasser le minimum. En revanche, si on avance trop peu, il faudra trop d'itérations pour s'approcher du minimum. Pour calibrer cela, on va définir un paramètre appelé **taux d'apprentissage** (*learning rate*) et généralement noté $\\eta$.\n",
        "\n",
        "![image.png](attachment:cbc786d4-807a-4d1f-b224-928ea505eedf.png)\n",
        "\n",
        "La mise à jour des poids du réseau de neurones se fait ensuite de manière suivante :\n",
        "$$W \\leftarrow W - \\eta\\Delta W$$\n",
        "$$B \\leftarrow B - \\eta\\Delta B$$\n",
        "\n",
        "On répétera ensuite ces quatres étapes jusqu'à ce que le réseau de neurones aie suffisamment appris."
      ]
    },
    {
      "cell_type": "code",
      "execution_count": null,
      "id": "b8356851-1158-47af-b100-98ac73e705e5",
      "metadata": {
        "scrolled": true,
        "id": "b8356851-1158-47af-b100-98ac73e705e5",
        "outputId": "54e7fb0b-cd47-4ee3-b49f-a9d16f608a53"
      },
      "outputs": [
        {
          "name": "stdout",
          "output_type": "stream",
          "text": [
            "Coût à l'itération 0   : 618.095\n",
            "Coût à l'itération 20  : 283.045\n",
            "Coût à l'itération 40  : 208.026\n",
            "Coût à l'itération 60  : 187.750\n",
            "Coût à l'itération 80  : 169.940\n",
            "Coût à l'itération 100 : 154.285\n",
            "Coût à l'itération 120 : 141.019\n",
            "Coût à l'itération 140 : 130.088\n",
            "Coût à l'itération 160 : 121.240\n",
            "Coût à l'itération 180 : 114.129\n",
            "Coût à l'itération 200 : 108.404\n",
            "Coût à l'itération 220 : 103.758\n",
            "Coût à l'itération 240 : 99.942\n",
            "Coût à l'itération 260 : 96.766\n",
            "Coût à l'itération 280 : 94.087\n",
            "Coût à l'itération 300 : 91.795\n",
            "Coût à l'itération 320 : 89.811\n",
            "Coût à l'itération 340 : 88.073\n",
            "Coût à l'itération 360 : 86.534\n",
            "Coût à l'itération 380 : 85.158\n",
            "Coût à l'itération 400 : 83.918\n",
            "Coût à l'itération 420 : 82.791\n",
            "Coût à l'itération 440 : 81.759\n",
            "Coût à l'itération 460 : 80.810\n",
            "Coût à l'itération 480 : 79.930\n"
          ]
        }
      ],
      "source": [
        "# Ré-initialisation des poids du réseau de neurones (pour pouvoir reproduire les résultats)\n",
        "np.random.seed(seed)\n",
        "w = np.random.randn(4, 3)\n",
        "b = np.random.randn(3)\n",
        "\n",
        "lr = 0.0001  # Taux d'apprentissage\n",
        "epochs = 500  # Nombre d'itérations\n",
        "\n",
        "epoch_losses = []  # Pour garder en mémoire le coût à chaque itération\n",
        "\n",
        "for epoch in range(epochs):\n",
        "\n",
        "    # Étape 1 : Faire passer les données dans le réseau de neurones\n",
        "    pred = forward(X_train)\n",
        "\n",
        "    # Étape 2 : Calcul de la fonction de coût\n",
        "    epoch_loss = loss(y_train, pred)\n",
        "\n",
        "    # Étape 3 : Calcul des gradients (rétropropagation)\n",
        "    # TODO : Coder cette partie. On pourra utiliser la fonction `np.matmul` pour le produit matriciel.\n",
        "    dz = pred - y_train\n",
        "    dw = np.matmul(X_train.T, dz)\n",
        "    db = np.sum(dz)\n",
        "\n",
        "    # Étape 4 : Descente de gradient\n",
        "    # TODO : Coder cette partie\n",
        "    w -= lr * dw\n",
        "    b -= lr * db\n",
        "\n",
        "    epoch_losses.append(epoch_loss)\n",
        "\n",
        "    if epoch % (epochs // 25) == 0:\n",
        "        print(f\"Coût à l'itération {epoch:<4}: {epoch_loss:.3f}\")"
      ]
    },
    {
      "cell_type": "code",
      "execution_count": null,
      "id": "670a1d21-0f83-4cb1-b4ec-8d3472fdd310",
      "metadata": {
        "id": "670a1d21-0f83-4cb1-b4ec-8d3472fdd310",
        "outputId": "a20410d9-ca11-4ed5-aba9-6f428b887619"
      },
      "outputs": [
        {
          "data": {
            "image/png": "[encoded data removed]",
            "text/plain": [
              "<Figure size 640x480 with 1 Axes>"
            ]
          },
          "metadata": {},
          "output_type": "display_data"
        }
      ],
      "source": [
        "plt.plot(epoch_losses, label=\"Coût\")\n",
        "plt.xlabel(\"Itération\")\n",
        "plt.legend()\n",
        "plt.grid(\"on\")"
      ]
    },
    {
      "cell_type": "markdown",
      "id": "d81248c5-3860-4747-9989-fd1a6110887b",
      "metadata": {
        "id": "d81248c5-3860-4747-9989-fd1a6110887b"
      },
      "source": [
        "On remarque que l'erreur du réseau de neurones (coût) décroit bien au fur et à mesure que l'entraînement progresse.\n",
        "\n",
        "On voit qu'après 50 itérations, le coût décroit encore rapidement, il est donc a priori intéressant de continuer à l'entraîner. Cependant, on observe qu'après 500 itérations, le coût ne varie presque plus; continuer jusqu'à 2000 itérations est sans doute excessif et risque d'apporter peu d'améliorations supplémentaires..\n",
        "\n",
        "Faire varier le taux d'apprentissage, en testant par exemple les valeurs 0.000001 et 0.01, et observez à nouveau l'évolution de la fonction de coût. Que peut-on en déduire ?\n",
        "\n",
        "Pour une valeur de 0.000001, le réseau apprend beaucoup plus lentement, et la fonction de coût diminue peu. C'est donc sous-efficace, puisqu'il faudrait avoir un nombre d'itérations bien plus élevés pour arriver au même résultat. Pour une valeur de 0.01, l'entraînement est instable : Les poids sont déplacés trop loin dans le sens de la pente, si bien qu'ils dépassent le minimum et passent de l'autre côté. Le coût fluctue donc beaucoup sans jamais rester proche du minimum. Il est donc importer de bien calibrer son taux d'apprentissage.\n",
        "\n",
        "La fonction suivante permet de calculer la précision du réseau de neurones entraîné, c'est-à-dire son taux de prédictions correctes :"
      ]
    },
    {
      "cell_type": "code",
      "execution_count": null,
      "id": "781c579e-7580-4e2a-bf9d-cb4e2fdbad9a",
      "metadata": {
        "id": "781c579e-7580-4e2a-bf9d-cb4e2fdbad9a",
        "outputId": "734dbba7-cdd2-4bc1-8f22-3966b8f43322"
      },
      "outputs": [
        {
          "name": "stdout",
          "output_type": "stream",
          "text": [
            "Précision sur le jeu d'entraînement : 65.0%\n",
            "Précision sur le jeu de test :        63.3%\n"
          ]
        }
      ],
      "source": [
        "def accuracy(yhat, y):\n",
        "    # Conversion des probabilités en prédiction de classe\n",
        "    # (la classe avec la probabilité la plus haute est considérée comme la prédiction du perceptron)\n",
        "    predicted_classes = np.argmax(yhat, axis=1)\n",
        "    true_classes = np.argmax(y, axis=1)\n",
        "\n",
        "    accuracy = np.mean(predicted_classes == true_classes)\n",
        "    return accuracy\n",
        "\n",
        "train_acc = accuracy(forward(X_train), y_train)\n",
        "test_acc = accuracy(forward(X_test), y_test)\n",
        "\n",
        "print(f\"Précision sur le jeu d'entraînement : {train_acc:.1%}\")\n",
        "print(f\"Précision sur le jeu de test :        {test_acc:.1%}\")"
      ]
    },
    {
      "cell_type": "markdown",
      "id": "053a496b-8cca-44e1-a93c-290def35ea30",
      "metadata": {
        "id": "053a496b-8cca-44e1-a93c-290def35ea30"
      },
      "source": [
        "\n",
        "Deux remarques à faire ici :\n",
        "- La précision sur le jeu d'entraînement est toujours supérieur à celle obtenue sur le jeu de test. C'est normal ; le réseau de neurones obtient de meilleurs résultats sur les données dont il a appris que sur celles qu'il n'a jamais vues. C'est pour cela qu'il est toujours important de vérifier les \"vraies\" performances de son réseau, pour éviter le surapprentissage (*overfitting*), où le réseau de neurones apprend par cœur les données qu'on lui donne mais est incapable de généraliser sur d'autres données non vues. En pratique, on divise même le jeu de données en trois : un jeu d'entraînement, qui sert à effectuer l'entraînement initial, un jeu de validation, qu'on utilise pour ajuster différents paramètres du réseaux de neurones et observer ce qui semble marcher le mieux, et enfin un jeu de test, qui sert à mesurer les performances finales obtenues.\n",
        "- La précision augmente avec le nombre d'itérations. Ici, contrairement à ce que l'on aurait pu croire, il est bien bénéfique de continuer à entraîner jusqu'à 2000 itérations ! En fait, ici, les performance augmentent même jusqu'à 5000 itérations, correspondant à une précision d'environ 95%. Après cela, le modèle stagne."
      ]
    },
    {
      "cell_type": "code",
      "execution_count": null,
      "id": "d463d596-401b-446d-9033-857b83db80e0",
      "metadata": {
        "id": "d463d596-401b-446d-9033-857b83db80e0"
      },
      "outputs": [],
      "source": []
    }
  ],
  "metadata": {
    "kernelspec": {
      "display_name": "Python 3 (ipykernel)",
      "language": "python",
      "name": "python3"
    },
    "language_info": {
      "codemirror_mode": {
        "name": "ipython",
        "version": 3
      },
      "file_extension": ".py",
      "mimetype": "text/x-python",
      "name": "python",
      "nbconvert_exporter": "python",
      "pygments_lexer": "ipython3",
      "version": "3.10.12"
    },
    "colab": {
      "provenance": []
    }
  },
  "nbformat": 4,
  "nbformat_minor": 5
}